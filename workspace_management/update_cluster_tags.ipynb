{
 "cells": [
  {
   "cell_type": "code",
   "execution_count": 2,
   "metadata": {},
   "outputs": [],
   "source": [
    "import json\n",
    "import subprocess\n",
    "from copy import deepcopy\n",
    "\n",
    "\n",
    "def get_all_clusters_id() -> dict:\n",
    "    # retrieve a dict of [clusterid:clustername]\n",
    "    clusters = dict()\n",
    "    p = subprocess.Popen('databricks clusters list', shell=True, stdout=subprocess.PIPE, stderr=subprocess.STDOUT)\n",
    "    for line in p.stdout.readlines():\n",
    "        # clean returned objects\n",
    "        output = list(filter(None, str(line, 'utf-8').split(\" \")))\n",
    "        cluster_id, cluster_name = output[0], output[1]\n",
    "        # add into dict\n",
    "        clusters[cluster_id] = cluster_name\n",
    "    retval = p.wait()\n",
    "    return clusters\n",
    "\n",
    "\n",
    "def get_cluster_info(cluster_id: str) -> dict:\n",
    "    # gets single cluster metadata\n",
    "    p_res = subprocess.check_output(\n",
    "        [\"databricks\", \"clusters\", \"get\", \"--cluster-id\", cluster_id])\n",
    "    res_json = json.loads(p_res)\n",
    "    return res_json\n",
    "\n",
    "\n",
    "def modify_tag_json(cluster_original_json: dict, custom_tag: dict) -> dict:\n",
    "    # given single cluster original metadata, apply and return custom_tag onto json obj\n",
    "    modified_json = deepcopy(cluster_original_json)\n",
    "    modified_json[\"custom_tags\"] = custom_tag\n",
    "    return modified_json\n",
    "\n",
    "\n",
    "def patch_cluster(cluster_id: str, json_obj: dict) -> None:\n",
    "    # update single cluster\n",
    "    p_res = subprocess.check_output(\n",
    "        [\"databricks\", \"clusters\", \"edit\", \"--json\", json.dumps(json_obj, indent=2).encode('utf-8')])\n",
    "    return None"
   ]
  },
  {
   "cell_type": "code",
   "execution_count": 3,
   "metadata": {},
   "outputs": [
    {
     "data": {
      "text/plain": [
       "{'0114-053019-fmho5ft6': 'rocinante',\n",
       " '0308-083108-873mkxez': 'job-1128-run-12573-get-baby-names_cluster',\n",
       " '0223-093121-5hpja6sw': 'job-1044-run-11822',\n",
       " '0223-083659-28gbz6gt': 'job-960-run-11668',\n",
       " '0223-075854-go8a51nk': 'job-848-run-11515'}"
      ]
     },
     "execution_count": 3,
     "metadata": {},
     "output_type": "execute_result"
    }
   ],
   "source": [
    "get_all_clusters_id()"
   ]
  },
  {
   "cell_type": "code",
   "execution_count": 5,
   "metadata": {},
   "outputs": [],
   "source": [
    "custom_tags = {\n",
    "    'costcenter': 'sales',\n",
    "    'randomtag1': 'val1',\n",
    "    'randomtag2': 'val2',\n",
    "    }"
   ]
  },
  {
   "cell_type": "code",
   "execution_count": 20,
   "metadata": {},
   "outputs": [
    {
     "name": "stdout",
     "output_type": "stream",
     "text": [
      "rocinante\n"
     ]
    }
   ],
   "source": [
    "all_clusters = get_all_clusters_id()\n",
    "print(list(all_clusters.values())[0])"
   ]
  },
  {
   "cell_type": "code",
   "execution_count": 21,
   "metadata": {},
   "outputs": [
    {
     "name": "stdout",
     "output_type": "stream",
     "text": [
      "0114-053019-fmho5ft6 rocinante\n",
      "0308-083108-873mkxez job-1128-run-12573-get-baby-names_cluster\n",
      "0223-093121-5hpja6sw job-1044-run-11822\n",
      "0223-083659-28gbz6gt job-960-run-11668\n",
      "0223-075854-go8a51nk job-848-run-11515\n"
     ]
    }
   ],
   "source": [
    "for k, v in all_clusters.items():\n",
    "    print(k,v)"
   ]
  },
  {
   "cell_type": "code",
   "execution_count": 23,
   "metadata": {},
   "outputs": [
    {
     "name": "stdout",
     "output_type": "stream",
     "text": [
      "{'cluster_id': '0114-053019-fmho5ft6', 'spark_context_id': 8844868844272713892, 'cluster_name': 'rocinante', 'spark_version': '9.1.x-scala2.12', 'spark_conf': {'spark.databricks.delta.preview.enabled': 'true'}, 'node_type_id': 'Standard_DS3_v2', 'driver_node_type_id': 'Standard_DS3_v2', 'spark_env_vars': {'PYSPARK_PYTHON': '/databricks/python3/bin/python3'}, 'autotermination_minutes': 30, 'enable_elastic_disk': True, 'disk_spec': {}, 'cluster_source': 'UI', 'enable_local_disk_encryption': False, 'azure_attributes': {'first_on_demand': 1, 'availability': 'ON_DEMAND_AZURE', 'spot_bid_max_price': -1.0}, 'instance_source': {'node_type_id': 'Standard_DS3_v2'}, 'driver_instance_source': {'node_type_id': 'Standard_DS3_v2'}, 'state': 'TERMINATED', 'state_message': 'Inactive cluster terminated (inactive for 30 minutes).', 'start_time': 1642138219449, 'terminated_time': 1647320715498, 'last_state_loss_time': 1647317132192, 'last_restarted_time': 1647317132283, 'autoscale': {'min_workers': 2, 'max_workers': 4}, 'default_tags': {'Vendor': 'Databricks', 'Creator': 'christopher.chalcraft@databricks.com', 'ClusterName': 'rocinante', 'ClusterId': '0114-053019-fmho5ft6', 'Environment': 'Testing', 'Epoch': '8tdylp', 'Owner': 'christopher.chalcraft@databricks.com'}, 'creator_user_name': 'christopher.chalcraft@databricks.com', 'termination_reason': {'code': 'INACTIVITY', 'parameters': {'inactivity_duration_min': '30'}, 'type': 'SUCCESS'}, 'init_scripts_safe_mode': False}\n"
     ]
    }
   ],
   "source": [
    "original_json = get_cluster_info(cluster_id=\"0114-053019-fmho5ft6\")\n",
    "print(original_json)"
   ]
  },
  {
   "cell_type": "code",
   "execution_count": 26,
   "metadata": {},
   "outputs": [
    {
     "name": "stdout",
     "output_type": "stream",
     "text": [
      "{'cluster_id': '0114-053019-fmho5ft6', 'spark_context_id': 8844868844272713892, 'cluster_name': 'rocinante', 'spark_version': '9.1.x-scala2.12', 'spark_conf': {'spark.databricks.delta.preview.enabled': 'true'}, 'node_type_id': 'Standard_DS3_v2', 'driver_node_type_id': 'Standard_DS3_v2', 'spark_env_vars': {'PYSPARK_PYTHON': '/databricks/python3/bin/python3'}, 'autotermination_minutes': 30, 'enable_elastic_disk': True, 'disk_spec': {}, 'cluster_source': 'UI', 'enable_local_disk_encryption': False, 'azure_attributes': {'first_on_demand': 1, 'availability': 'ON_DEMAND_AZURE', 'spot_bid_max_price': -1.0}, 'instance_source': {'node_type_id': 'Standard_DS3_v2'}, 'driver_instance_source': {'node_type_id': 'Standard_DS3_v2'}, 'state': 'TERMINATED', 'state_message': 'Inactive cluster terminated (inactive for 30 minutes).', 'start_time': 1642138219449, 'terminated_time': 1647320715498, 'last_state_loss_time': 1647317132192, 'last_restarted_time': 1647317132283, 'autoscale': {'min_workers': 2, 'max_workers': 4}, 'default_tags': {'Vendor': 'Databricks', 'Creator': 'christopher.chalcraft@databricks.com', 'ClusterName': 'rocinante', 'ClusterId': '0114-053019-fmho5ft6', 'Environment': 'Testing', 'Epoch': '8tdylp', 'Owner': 'christopher.chalcraft@databricks.com'}, 'creator_user_name': 'christopher.chalcraft@databricks.com', 'termination_reason': {'code': 'INACTIVITY', 'parameters': {'inactivity_duration_min': '30'}, 'type': 'SUCCESS'}, 'init_scripts_safe_mode': False, 'custom_tags': {'costcenter': 'sales', 'randomtag1': 'val1', 'randomtag2': 'val2'}}\n"
     ]
    }
   ],
   "source": [
    "updated_json = modify_tag_json(original_json,custom_tags) \n",
    "print(updated_json)"
   ]
  },
  {
   "cell_type": "code",
   "execution_count": 27,
   "metadata": {},
   "outputs": [],
   "source": [
    "patch_cluster(cluster_id=\"0114-053019-fmho5ft6\", json_obj=updated_json)"
   ]
  },
  {
   "cell_type": "markdown",
   "metadata": {},
   "source": []
  }
 ],
 "metadata": {
  "interpreter": {
   "hash": "27bd40a1e72c37a4e266e71107e05736774a90cd3a947bef877eb905d20c0af7"
  },
  "kernelspec": {
   "display_name": "Python 3.8.12 ('.venv': venv)",
   "language": "python",
   "name": "python3"
  },
  "language_info": {
   "codemirror_mode": {
    "name": "ipython",
    "version": 3
   },
   "file_extension": ".py",
   "mimetype": "text/x-python",
   "name": "python",
   "nbconvert_exporter": "python",
   "pygments_lexer": "ipython3",
   "version": "3.8.12"
  },
  "orig_nbformat": 4
 },
 "nbformat": 4,
 "nbformat_minor": 2
}
